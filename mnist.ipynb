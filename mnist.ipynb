{
 "cells": [
  {
   "cell_type": "markdown",
   "metadata": {},
   "source": [
    "### All needed imports to run notebook"
   ]
  },
  {
   "cell_type": "code",
   "execution_count": 339,
   "metadata": {},
   "outputs": [],
   "source": [
    "import tensorflow.compat.v2 as tf\n",
    "\n",
    "import matplotlib.pyplot as plt\n",
    "import numpy as np\n",
    "\n",
    "tf.enable_v2_behavior()"
   ]
  },
  {
   "cell_type": "markdown",
   "metadata": {},
   "source": [
    "### Load MNIST dataset"
   ]
  },
  {
   "cell_type": "code",
   "execution_count": 340,
   "metadata": {},
   "outputs": [],
   "source": [
    "(x_train, y_train), (x_test, y_test) = tf.keras.datasets.mnist.load_data()\n",
    "num_classes = 10\n",
    "input_shape = (28,28)"
   ]
  },
  {
   "cell_type": "markdown",
   "metadata": {},
   "source": [
    "### Visualize the data"
   ]
  },
  {
   "cell_type": "code",
   "execution_count": 341,
   "metadata": {},
   "outputs": [
    {
     "data": {
      "image/png": "[encoded data removed]",
      "text/plain": [
       "<Figure size 432x288 with 1 Axes>"
      ]
     },
     "metadata": {
      "needs_background": "light"
     },
     "output_type": "display_data"
    }
   ],
   "source": [
    "def show_img(x, y, prediction=None):\n",
    "    plt.imshow(x, cmap='gray')\n",
    "    plt.title(f\"Label: {y}, Prediction: {prediction}\")\n",
    "\n",
    "idx = 15\n",
    "show_img(x_train[idx], y_train[idx])"
   ]
  },
  {
   "cell_type": "markdown",
   "metadata": {},
   "source": [
    "### Build training pipeline"
   ]
  },
  {
   "cell_type": "code",
   "execution_count": 342,
   "metadata": {},
   "outputs": [],
   "source": [
    "# shuffle dataset\n",
    "shuffler = np.random.permutation(len(x_train))\n",
    "x_train = x_train[shuffler]\n",
    "y_train = y_train[shuffler]\n",
    "\n",
    "# normalize images\n",
    "x_train = x_train / 255."
   ]
  },
  {
   "cell_type": "markdown",
   "metadata": {},
   "source": [
    "### Build evaluation pipeline"
   ]
  },
  {
   "cell_type": "code",
   "execution_count": 343,
   "metadata": {},
   "outputs": [],
   "source": [
    "# shuffle dataset\n",
    "shuffler = np.random.permutation(len(x_test))\n",
    "x_test = x_test[shuffler]\n",
    "y_test = y_test[shuffler]\n",
    "\n",
    "# normalize images\n",
    "x_test = x_test / 255."
   ]
  },
  {
   "cell_type": "markdown",
   "metadata": {},
   "source": [
    "### Create and train model (simple sequential)"
   ]
  },
  {
   "cell_type": "code",
   "execution_count": 344,
   "metadata": {
    "scrolled": false
   },
   "outputs": [],
   "source": [
    "# note, our objects are `one-hot` which means objects can belong to only one class\n",
    "model = tf.keras.models.Sequential([\n",
    "    tf.keras.layers.Flatten(input_shape=input_shape),\n",
    "    tf.keras.layers.Dense(128,activation='relu'),\n",
    "    tf.keras.layers.Dense(num_classes)\n",
    "])\n",
    "model.compile(\n",
    "    optimizer='adam',\n",
    "    loss=tf.keras.losses.SparseCategoricalCrossentropy(from_logits=True),\n",
    "    metrics=[tf.keras.metrics.SparseCategoricalAccuracy()],\n",
    ")"
   ]
  },
  {
   "cell_type": "code",
   "execution_count": 345,
   "metadata": {},
   "outputs": [
    {
     "name": "stdout",
     "output_type": "stream",
     "text": [
      "Model: \"sequential_15\"\n",
      "_________________________________________________________________\n",
      "Layer (type)                 Output Shape              Param #   \n",
      "=================================================================\n",
      "flatten_15 (Flatten)         (None, 784)               0         \n",
      "_________________________________________________________________\n",
      "dense_30 (Dense)             (None, 128)               100480    \n",
      "_________________________________________________________________\n",
      "dense_31 (Dense)             (None, 10)                1290      \n",
      "=================================================================\n",
      "Total params: 101,770\n",
      "Trainable params: 101,770\n",
      "Non-trainable params: 0\n",
      "_________________________________________________________________\n"
     ]
    }
   ],
   "source": [
    "model.summary()"
   ]
  },
  {
   "cell_type": "code",
   "execution_count": 346,
   "metadata": {},
   "outputs": [
    {
     "name": "stdout",
     "output_type": "stream",
     "text": [
      "Epoch 1/15\n",
      "422/422 [==============================] - 1s 2ms/step - loss: 0.3769 - sparse_categorical_accuracy: 0.8976 - val_loss: 0.2072 - val_sparse_categorical_accuracy: 0.9400\n",
      "Epoch 2/15\n",
      "422/422 [==============================] - 1s 2ms/step - loss: 0.1774 - sparse_categorical_accuracy: 0.9488 - val_loss: 0.1483 - val_sparse_categorical_accuracy: 0.9572\n",
      "Epoch 3/15\n",
      "422/422 [==============================] - 1s 2ms/step - loss: 0.1295 - sparse_categorical_accuracy: 0.9625 - val_loss: 0.1250 - val_sparse_categorical_accuracy: 0.9627\n",
      "Epoch 4/15\n",
      "422/422 [==============================] - 1s 2ms/step - loss: 0.0998 - sparse_categorical_accuracy: 0.9708 - val_loss: 0.1052 - val_sparse_categorical_accuracy: 0.9690\n",
      "Epoch 5/15\n",
      "422/422 [==============================] - 1s 2ms/step - loss: 0.0824 - sparse_categorical_accuracy: 0.9755 - val_loss: 0.0942 - val_sparse_categorical_accuracy: 0.9700\n",
      "Epoch 6/15\n",
      "422/422 [==============================] - 1s 2ms/step - loss: 0.0672 - sparse_categorical_accuracy: 0.9806 - val_loss: 0.0874 - val_sparse_categorical_accuracy: 0.9735\n",
      "Epoch 7/15\n",
      "422/422 [==============================] - 1s 2ms/step - loss: 0.0561 - sparse_categorical_accuracy: 0.9839 - val_loss: 0.0853 - val_sparse_categorical_accuracy: 0.9723\n",
      "Epoch 8/15\n",
      "422/422 [==============================] - 1s 2ms/step - loss: 0.0473 - sparse_categorical_accuracy: 0.9865 - val_loss: 0.0794 - val_sparse_categorical_accuracy: 0.9750\n",
      "Epoch 9/15\n",
      "422/422 [==============================] - 1s 2ms/step - loss: 0.0403 - sparse_categorical_accuracy: 0.9884 - val_loss: 0.0790 - val_sparse_categorical_accuracy: 0.9755\n",
      "Epoch 10/15\n",
      "422/422 [==============================] - 1s 2ms/step - loss: 0.0338 - sparse_categorical_accuracy: 0.9905 - val_loss: 0.0753 - val_sparse_categorical_accuracy: 0.9775\n",
      "Epoch 11/15\n",
      "422/422 [==============================] - 1s 2ms/step - loss: 0.0288 - sparse_categorical_accuracy: 0.9923 - val_loss: 0.0757 - val_sparse_categorical_accuracy: 0.9762\n",
      "Epoch 12/15\n",
      "422/422 [==============================] - 1s 2ms/step - loss: 0.0244 - sparse_categorical_accuracy: 0.9936 - val_loss: 0.0739 - val_sparse_categorical_accuracy: 0.9760\n",
      "Epoch 13/15\n",
      "422/422 [==============================] - 1s 2ms/step - loss: 0.0213 - sparse_categorical_accuracy: 0.9946 - val_loss: 0.0749 - val_sparse_categorical_accuracy: 0.9787\n",
      "Epoch 14/15\n",
      "422/422 [==============================] - 1s 2ms/step - loss: 0.0174 - sparse_categorical_accuracy: 0.9964 - val_loss: 0.0725 - val_sparse_categorical_accuracy: 0.9785\n",
      "Epoch 15/15\n",
      "422/422 [==============================] - 1s 2ms/step - loss: 0.0155 - sparse_categorical_accuracy: 0.9964 - val_loss: 0.0711 - val_sparse_categorical_accuracy: 0.9800\n"
     ]
    },
    {
     "data": {
      "text/plain": [
       "<tensorflow.python.keras.callbacks.History at 0x7ff7206c1ba8>"
      ]
     },
     "execution_count": 346,
     "metadata": {},
     "output_type": "execute_result"
    }
   ],
   "source": [
    "batch_size=128\n",
    "epochs=15\n",
    "\n",
    "model.fit(\n",
    "    x_train,\n",
    "    y_train,\n",
    "    batch_size=batch_size,\n",
    "    epochs=epochs,\n",
    "    validation_split=0.1,\n",
    ")"
   ]
  },
  {
   "cell_type": "code",
   "execution_count": 347,
   "metadata": {},
   "outputs": [
    {
     "name": "stdout",
     "output_type": "stream",
     "text": [
      "Test loss: 0.0717068612575531\n",
      "Test accuracy: 0.9794999957084656\n"
     ]
    }
   ],
   "source": [
    "score = model.evaluate(x_test, y_test, verbose=0)\n",
    "print(f'Test loss: {score[0]}')\n",
    "print(f'Test accuracy: {score[1]}')"
   ]
  },
  {
   "cell_type": "markdown",
   "metadata": {},
   "source": [
    "### Make predictions"
   ]
  },
  {
   "cell_type": "code",
   "execution_count": 348,
   "metadata": {
    "scrolled": false
   },
   "outputs": [
    {
     "data": {
      "image/png": "[encoded data removed]",
      "text/plain": [
       "<Figure size 432x288 with 1 Axes>"
      ]
     },
     "metadata": {
      "needs_background": "light"
     },
     "output_type": "display_data"
    },
    {
     "data": {
      "image/png": "[encoded data removed]",
      "text/plain": [
       "<Figure size 432x288 with 1 Axes>"
      ]
     },
     "metadata": {
      "needs_background": "light"
     },
     "output_type": "display_data"
    },
    {
     "data": {
      "image/png": "[encoded data removed]",
      "text/plain": [
       "<Figure size 432x288 with 1 Axes>"
      ]
     },
     "metadata": {
      "needs_background": "light"
     },
     "output_type": "display_data"
    },
    {
     "data": {
      "image/png": "[encoded data removed]",
      "text/plain": [
       "<Figure size 432x288 with 1 Axes>"
      ]
     },
     "metadata": {
      "needs_background": "light"
     },
     "output_type": "display_data"
    },
    {
     "data": {
      "image/png": "[encoded data removed]",
      "text/plain": [
       "<Figure size 432x288 with 1 Axes>"
      ]
     },
     "metadata": {
      "needs_background": "light"
     },
     "output_type": "display_data"
    },
    {
     "data": {
      "image/png": "[encoded data removed]",
      "text/plain": [
       "<Figure size 432x288 with 1 Axes>"
      ]
     },
     "metadata": {
      "needs_background": "light"
     },
     "output_type": "display_data"
    },
    {
     "data": {
      "image/png": "[encoded data removed]",
      "text/plain": [
       "<Figure size 432x288 with 1 Axes>"
      ]
     },
     "metadata": {
      "needs_background": "light"
     },
     "output_type": "display_data"
    },
    {
     "data": {
      "image/png": "[encoded data removed]",
      "text/plain": [
       "<Figure size 432x288 with 1 Axes>"
      ]
     },
     "metadata": {
      "needs_background": "light"
     },
     "output_type": "display_data"
    },
    {
     "data": {
      "image/png": "[encoded data removed]",
      "text/plain": [
       "<Figure size 432x288 with 1 Axes>"
      ]
     },
     "metadata": {
      "needs_background": "light"
     },
     "output_type": "display_data"
    },
    {
     "data": {
      "image/png": "[encoded data removed]",
      "text/plain": [
       "<Figure size 432x288 with 1 Axes>"
      ]
     },
     "metadata": {
      "needs_background": "light"
     },
     "output_type": "display_data"
    }
   ],
   "source": [
    "indices = [i for i, x in enumerate(x_test) if i % 1000 == 0]\n",
    "x = x_test[indices]\n",
    "y = y_test[indices]\n",
    "\n",
    "predictions = model.predict(x)\n",
    "predictions = np.argmax(predictions, axis=1)\n",
    "\n",
    "for i, pred in enumerate(predictions):\n",
    "    plt.figure()\n",
    "    show_img(x[i],y[i],pred)\n"
   ]
  }
 ],
 "metadata": {
  "kernelspec": {
   "display_name": "Python 3",
   "language": "python",
   "name": "python3"
  },
  "language_info": {
   "codemirror_mode": {
    "name": "ipython",
    "version": 3
   },
   "file_extension": ".py",
   "mimetype": "text/x-python",
   "name": "python",
   "nbconvert_exporter": "python",
   "pygments_lexer": "ipython3",
   "version": "3.6.9"
  }
 },
 "nbformat": 4,
 "nbformat_minor": 4
}
